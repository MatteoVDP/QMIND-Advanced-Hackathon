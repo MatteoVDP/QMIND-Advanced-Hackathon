{
 "cells": [
  {
   "cell_type": "code",
   "execution_count": 1,
   "id": "739fad24",
   "metadata": {
    "_cell_guid": "b1076dfc-b9ad-4769-8c92-a6c4dae69d19",
    "_uuid": "8f2839f25d086af736a60e9eeb907d3b93b6e0e5",
    "execution": {
     "iopub.execute_input": "2023-11-05T19:43:21.248332Z",
     "iopub.status.busy": "2023-11-05T19:43:21.247608Z",
     "iopub.status.idle": "2023-11-05T19:43:31.592982Z",
     "shell.execute_reply": "2023-11-05T19:43:31.591582Z"
    },
    "papermill": {
     "duration": 10.35579,
     "end_time": "2023-11-05T19:43:31.595539",
     "exception": false,
     "start_time": "2023-11-05T19:43:21.239749",
     "status": "completed"
    },
    "tags": []
   },
   "outputs": [],
   "source": [
    "# This Python 3 environment comes with many helpful analytics libraries installed\n",
    "# It is defined by the kaggle/python Docker image: https://github.com/kaggle/docker-python\n",
    "# For example, here's several helpful packages to load\n",
    "\n",
    "import numpy as np # linear algebra\n",
    "import pandas as pd # data processing, CSV file I/O (e.g. pd.read_csv)\n",
    "from tensorflow import keras\n",
    "from tensorflow.keras import layers\n",
    "import cv2\n",
    "import shutil\n",
    "import matplotlib.pyplot as plt\n",
    "\n",
    "# Input data files are available in the read-only \"../input/\" directory\n",
    "# For example, running this (by clicking run or pressing Shift+Enter) will list all files under the input directory\n",
    "\n",
    "import os\n",
    "import tensorflow as tf\n",
    "from tensorflow.keras.optimizers import Adam\n"
   ]
  },
  {
   "cell_type": "code",
   "execution_count": 2,
   "id": "ae7349d6",
   "metadata": {
    "execution": {
     "iopub.execute_input": "2023-11-05T19:43:31.610292Z",
     "iopub.status.busy": "2023-11-05T19:43:31.609601Z",
     "iopub.status.idle": "2023-11-05T19:43:32.558910Z",
     "shell.execute_reply": "2023-11-05T19:43:32.556811Z"
    },
    "papermill": {
     "duration": 0.958532,
     "end_time": "2023-11-05T19:43:32.561893",
     "exception": false,
     "start_time": "2023-11-05T19:43:31.603361",
     "status": "completed"
    },
    "tags": []
   },
   "outputs": [],
   "source": [
    "from sklearn.preprocessing import OneHotEncoder, StandardScaler\n",
    "from sklearn.model_selection import train_test_split"
   ]
  },
  {
   "cell_type": "code",
   "execution_count": 3,
   "id": "f42c5cf8",
   "metadata": {
    "execution": {
     "iopub.execute_input": "2023-11-05T19:43:32.574059Z",
     "iopub.status.busy": "2023-11-05T19:43:32.572621Z",
     "iopub.status.idle": "2023-11-05T19:43:32.584804Z",
     "shell.execute_reply": "2023-11-05T19:43:32.583523Z"
    },
    "papermill": {
     "duration": 0.020526,
     "end_time": "2023-11-05T19:43:32.587117",
     "exception": false,
     "start_time": "2023-11-05T19:43:32.566591",
     "status": "completed"
    },
    "tags": []
   },
   "outputs": [
    {
     "data": {
      "text/plain": [
       "['sample_submission.csv', 'train.csv', 'test.csv']"
      ]
     },
     "execution_count": 3,
     "metadata": {},
     "output_type": "execute_result"
    }
   ],
   "source": [
    "# Listing all files\n",
    "os.listdir('/kaggle/input/camp-qmind-hackathon-2023-A')"
   ]
  },
  {
   "cell_type": "code",
   "execution_count": 4,
   "id": "a149e542",
   "metadata": {
    "execution": {
     "iopub.execute_input": "2023-11-05T19:43:32.597598Z",
     "iopub.status.busy": "2023-11-05T19:43:32.597194Z",
     "iopub.status.idle": "2023-11-05T19:43:32.652654Z",
     "shell.execute_reply": "2023-11-05T19:43:32.650535Z"
    },
    "papermill": {
     "duration": 0.063555,
     "end_time": "2023-11-05T19:43:32.655128",
     "exception": false,
     "start_time": "2023-11-05T19:43:32.591573",
     "status": "completed"
    },
    "tags": []
   },
   "outputs": [],
   "source": [
    "train_df = pd.read_csv('/kaggle/input/camp-qmind-hackathon-2023-A/train.csv')\n",
    "#cleaning train data\n",
    "train_df = train_df.replace(\"05-Mar\", \"3-5\")\n",
    "train_df = train_df.replace(\"14-Oct\", \"10-14\")\n",
    "train_df = train_df.replace(\"08-Jun\", \"6-8\")\n",
    "train_df = train_df.replace(\"14-Dec\", \"12-14\")\n",
    "train_df = train_df.replace(\"09-May\", \"5-9\")\n",
    "train_df = train_df.replace(\"11-Sep\", \"9-11\")\n",
    "\n",
    "train_df = train_df.drop(train_df[train_df['Node-caps'] == '?'].index)\n",
    "train_df = train_df.drop(train_df[train_df['Breast-quad'] == '?'].index)\n",
    "\n",
    "\n",
    "#train_df.head()  # An overview of the training set"
   ]
  },
  {
   "cell_type": "code",
   "execution_count": 5,
   "id": "a60f34d7",
   "metadata": {
    "execution": {
     "iopub.execute_input": "2023-11-05T19:43:32.666090Z",
     "iopub.status.busy": "2023-11-05T19:43:32.665610Z",
     "iopub.status.idle": "2023-11-05T19:43:32.689213Z",
     "shell.execute_reply": "2023-11-05T19:43:32.687905Z"
    },
    "papermill": {
     "duration": 0.031801,
     "end_time": "2023-11-05T19:43:32.691589",
     "exception": false,
     "start_time": "2023-11-05T19:43:32.659788",
     "status": "completed"
    },
    "tags": []
   },
   "outputs": [],
   "source": [
    "#cleaning test data\n",
    "validate_df = pd.read_csv('/kaggle/input/camp-qmind-hackathon-2023-A/test.csv')\n",
    "\n",
    "\n",
    "\n",
    "validate_df = validate_df.replace(\"05-Mar\", \"3-5\")\n",
    "validate_df = validate_df.replace(\"14-Oct\", \"10-14\")\n",
    "validate_df = validate_df.replace(\"08-Jun\", \"6-8\")\n",
    "validate_df = validate_df.replace(\"09-May\", \"5-9\")\n",
    "validate_df = validate_df.replace(\"11-Sep\", \"9-11\")\n",
    "\n",
    "validate_df = validate_df.drop(validate_df[validate_df['Node-caps'] == '?'].index)\n",
    "\n",
    "\n",
    "\n",
    "\n"
   ]
  },
  {
   "cell_type": "code",
   "execution_count": null,
   "id": "9f8c8fc8",
   "metadata": {
    "papermill": {
     "duration": 0.004089,
     "end_time": "2023-11-05T19:43:32.700412",
     "exception": false,
     "start_time": "2023-11-05T19:43:32.696323",
     "status": "completed"
    },
    "tags": []
   },
   "outputs": [],
   "source": []
  },
  {
   "cell_type": "code",
   "execution_count": 6,
   "id": "84437642",
   "metadata": {
    "execution": {
     "iopub.execute_input": "2023-11-05T19:43:32.710947Z",
     "iopub.status.busy": "2023-11-05T19:43:32.710521Z",
     "iopub.status.idle": "2023-11-05T19:43:32.738388Z",
     "shell.execute_reply": "2023-11-05T19:43:32.736923Z"
    },
    "papermill": {
     "duration": 0.036338,
     "end_time": "2023-11-05T19:43:32.740965",
     "exception": false,
     "start_time": "2023-11-05T19:43:32.704627",
     "status": "completed"
    },
    "tags": []
   },
   "outputs": [
    {
     "name": "stdout",
     "output_type": "stream",
     "text": [
      "   ID    Age Menopause Tumor-size Inv-nodes Node-caps  Deg-malig Breast  \\\n",
      "0  63  50-59      ge40      30-34       3-5        no          3   left   \n",
      "1  64  60-69      ge40      30-34       3-5       yes          2   left   \n",
      "2  65  30-39   premeno        0-4       0-2        no          2  right   \n",
      "3  73  60-69      ge40      45-49       0-2        no          1  right   \n",
      "4  81  40-49   premeno      25-29       0-2        no          2  right   \n",
      "\n",
      "  Breast-quad Irradiat  Class  \n",
      "0    left_low       no      1  \n",
      "1     central      yes      1  \n",
      "2     central       no      1  \n",
      "3    right_up      yes      1  \n",
      "4    left_low       no      1  \n"
     ]
    }
   ],
   "source": [
    "\n",
    "zero_temp_df = train_df.loc[(train_df[\"Class\"]==0)]\n",
    "one_temp_df = train_df.loc[(train_df[\"Class\"]==1)]\n",
    "\n",
    "\n",
    "zero_temp_df = zero_temp_df.sample(frac=0.416, random_state=31).reset_index(drop=True)\n",
    "\n",
    "\n",
    "train_df = pd.concat([one_temp_df, zero_temp_df], ignore_index = True)\n",
    "\n",
    "\n",
    "print(train_df.head())\n",
    "\n",
    "labels = train_df[\"Class\"]\n",
    "train_df = train_df.drop(columns = [\"Class\"])\n",
    "\n"
   ]
  },
  {
   "cell_type": "code",
   "execution_count": 7,
   "id": "c16cc2a5",
   "metadata": {
    "execution": {
     "iopub.execute_input": "2023-11-05T19:43:32.751896Z",
     "iopub.status.busy": "2023-11-05T19:43:32.751442Z",
     "iopub.status.idle": "2023-11-05T19:43:32.772694Z",
     "shell.execute_reply": "2023-11-05T19:43:32.770801Z"
    },
    "papermill": {
     "duration": 0.02983,
     "end_time": "2023-11-05T19:43:32.775409",
     "exception": false,
     "start_time": "2023-11-05T19:43:32.745579",
     "status": "completed"
    },
    "tags": []
   },
   "outputs": [],
   "source": [
    "#one hot encoding\n",
    "categorical_col = [\"Age\", \"Menopause\", \"Tumor-size\", \"Inv-nodes\", \"Node-caps\", \"Breast\", \"Breast-quad\", \"Irradiat\"]\n",
    "train_encoder = OneHotEncoder()\n",
    "#create separate DF with one-hot-encoded features\n",
    "train_encoded_features = train_encoder.fit_transform(train_df[categorical_col]).toarray()\n",
    "\n",
    "\n",
    "validate_encoder = OneHotEncoder()\n",
    "#create separate DF with one-hot-encoded features\n",
    "validate_encoded_features = validate_encoder.fit_transform(validate_df[categorical_col]).toarray()\n"
   ]
  },
  {
   "cell_type": "code",
   "execution_count": 8,
   "id": "f2416a4a",
   "metadata": {
    "execution": {
     "iopub.execute_input": "2023-11-05T19:43:32.788169Z",
     "iopub.status.busy": "2023-11-05T19:43:32.787607Z",
     "iopub.status.idle": "2023-11-05T19:43:32.802720Z",
     "shell.execute_reply": "2023-11-05T19:43:32.801569Z"
    },
    "papermill": {
     "duration": 0.024423,
     "end_time": "2023-11-05T19:43:32.804819",
     "exception": false,
     "start_time": "2023-11-05T19:43:32.780396",
     "status": "completed"
    },
    "tags": []
   },
   "outputs": [],
   "source": [
    "numerical_col = [\"Deg-malig\"]\n",
    "train_scaler = StandardScaler()\n",
    "train_scaled_numerical_features = train_scaler.fit_transform(train_df[numerical_col])\n",
    "\n",
    "validate_scaler = StandardScaler()\n",
    "validate_scaled_numerical_features = validate_scaler.fit_transform(validate_df[numerical_col])"
   ]
  },
  {
   "cell_type": "code",
   "execution_count": 9,
   "id": "74c9d3ea",
   "metadata": {
    "execution": {
     "iopub.execute_input": "2023-11-05T19:43:32.816901Z",
     "iopub.status.busy": "2023-11-05T19:43:32.815795Z",
     "iopub.status.idle": "2023-11-05T19:43:32.824800Z",
     "shell.execute_reply": "2023-11-05T19:43:32.822759Z"
    },
    "papermill": {
     "duration": 0.018292,
     "end_time": "2023-11-05T19:43:32.827868",
     "exception": false,
     "start_time": "2023-11-05T19:43:32.809576",
     "status": "completed"
    },
    "tags": []
   },
   "outputs": [],
   "source": [
    "train_data = pd.concat([pd.DataFrame(train_encoded_features), pd.DataFrame(train_scaled_numerical_features)],  axis=1)\n",
    "\n",
    "\n",
    "validate_data = pd.concat([pd.DataFrame(validate_encoded_features), pd.DataFrame(validate_scaled_numerical_features)],  axis=1)\n"
   ]
  },
  {
   "cell_type": "code",
   "execution_count": null,
   "id": "4f88e2cc",
   "metadata": {
    "papermill": {
     "duration": 0.004158,
     "end_time": "2023-11-05T19:43:32.837542",
     "exception": false,
     "start_time": "2023-11-05T19:43:32.833384",
     "status": "completed"
    },
    "tags": []
   },
   "outputs": [],
   "source": []
  },
  {
   "cell_type": "code",
   "execution_count": 10,
   "id": "86d00b97",
   "metadata": {
    "execution": {
     "iopub.execute_input": "2023-11-05T19:43:32.849692Z",
     "iopub.status.busy": "2023-11-05T19:43:32.848016Z",
     "iopub.status.idle": "2023-11-05T19:43:32.859455Z",
     "shell.execute_reply": "2023-11-05T19:43:32.857185Z"
    },
    "papermill": {
     "duration": 0.020455,
     "end_time": "2023-11-05T19:43:32.862370",
     "exception": false,
     "start_time": "2023-11-05T19:43:32.841915",
     "status": "completed"
    },
    "tags": []
   },
   "outputs": [],
   "source": [
    "\n",
    "\n",
    "\n",
    "\n",
    "x_train, x_test, y_train, y_test = train_test_split(train_data, labels, test_size = 0.2, random_state=31)\n",
    "\n",
    "\n",
    "\n"
   ]
  },
  {
   "cell_type": "code",
   "execution_count": 11,
   "id": "e46408f8",
   "metadata": {
    "execution": {
     "iopub.execute_input": "2023-11-05T19:43:32.873930Z",
     "iopub.status.busy": "2023-11-05T19:43:32.873527Z",
     "iopub.status.idle": "2023-11-05T19:43:32.881618Z",
     "shell.execute_reply": "2023-11-05T19:43:32.880229Z"
    },
    "papermill": {
     "duration": 0.016657,
     "end_time": "2023-11-05T19:43:32.884126",
     "exception": false,
     "start_time": "2023-11-05T19:43:32.867469",
     "status": "completed"
    },
    "tags": []
   },
   "outputs": [],
   "source": [
    "x_train = np.array(x_train)\n",
    "y_train = np.array(y_train)\n",
    "x_test = np.array(x_test)\n",
    "y_test = np.array(y_test)"
   ]
  },
  {
   "cell_type": "markdown",
   "id": "1da011ea",
   "metadata": {
    "papermill": {
     "duration": 0.004138,
     "end_time": "2023-11-05T19:43:32.893104",
     "exception": false,
     "start_time": "2023-11-05T19:43:32.888966",
     "status": "completed"
    },
    "tags": []
   },
   "source": [
    "# Create Your Model"
   ]
  },
  {
   "cell_type": "code",
   "execution_count": 12,
   "id": "ed9012bb",
   "metadata": {
    "execution": {
     "iopub.execute_input": "2023-11-05T19:43:32.903905Z",
     "iopub.status.busy": "2023-11-05T19:43:32.903486Z",
     "iopub.status.idle": "2023-11-05T19:43:35.372499Z",
     "shell.execute_reply": "2023-11-05T19:43:35.371696Z"
    },
    "papermill": {
     "duration": 2.47778,
     "end_time": "2023-11-05T19:43:35.375244",
     "exception": false,
     "start_time": "2023-11-05T19:43:32.897464",
     "status": "completed"
    },
    "tags": []
   },
   "outputs": [
    {
     "name": "stdout",
     "output_type": "stream",
     "text": [
      "Epoch 1/10\n",
      "1/1 [==============================] - 1s 1s/step - loss: 0.7117 - accuracy: 0.4659 - val_loss: 0.6255 - val_accuracy: 0.8125\n",
      "Epoch 2/10\n",
      "1/1 [==============================] - 0s 28ms/step - loss: 0.6791 - accuracy: 0.5455 - val_loss: 0.6149 - val_accuracy: 0.7500\n",
      "Epoch 3/10\n",
      "1/1 [==============================] - 0s 29ms/step - loss: 0.6514 - accuracy: 0.6705 - val_loss: 0.6081 - val_accuracy: 0.6875\n",
      "Epoch 4/10\n",
      "1/1 [==============================] - 0s 36ms/step - loss: 0.6279 - accuracy: 0.6932 - val_loss: 0.6034 - val_accuracy: 0.6875\n",
      "Epoch 5/10\n",
      "1/1 [==============================] - 0s 52ms/step - loss: 0.6080 - accuracy: 0.7386 - val_loss: 0.6006 - val_accuracy: 0.6875\n",
      "Epoch 6/10\n",
      "1/1 [==============================] - 0s 33ms/step - loss: 0.5916 - accuracy: 0.7500 - val_loss: 0.6001 - val_accuracy: 0.6875\n",
      "Epoch 7/10\n",
      "1/1 [==============================] - 0s 33ms/step - loss: 0.5777 - accuracy: 0.7500 - val_loss: 0.6010 - val_accuracy: 0.6875\n",
      "Epoch 8/10\n",
      "1/1 [==============================] - 0s 31ms/step - loss: 0.5653 - accuracy: 0.7614 - val_loss: 0.6036 - val_accuracy: 0.6875\n",
      "Epoch 9/10\n",
      "1/1 [==============================] - 0s 30ms/step - loss: 0.5540 - accuracy: 0.7614 - val_loss: 0.6079 - val_accuracy: 0.6875\n",
      "Epoch 10/10\n",
      "1/1 [==============================] - 0s 32ms/step - loss: 0.5438 - accuracy: 0.7727 - val_loss: 0.6136 - val_accuracy: 0.6875\n"
     ]
    }
   ],
   "source": [
    "#pre-process data: 1-balance the data, 2-convert nominal data to numerical, 3-normalize data\n",
    "model = tf.keras.models.Sequential([tf.keras.layers.Dense(128, input_shape = (x_train.shape[1],)),\n",
    "                                    tf.keras.layers.Dense(64, activation=tf.nn.relu),\n",
    "                                    tf.keras.layers.Dense(32, activation=tf.nn.relu),\n",
    "                                    tf.keras.layers.Dense(1,activation='sigmoid')])\n",
    "\n",
    "model.compile(optimizer = tf.optimizers.Adam(learning_rate = 0.001),\n",
    "              loss = 'binary_crossentropy',\n",
    "              metrics = ['accuracy'])\n",
    "\n",
    "history = model.fit(x_train, y_train, batch_size=128, epochs=10, validation_split=0.15)"
   ]
  },
  {
   "cell_type": "code",
   "execution_count": 13,
   "id": "8c541d2c",
   "metadata": {
    "execution": {
     "iopub.execute_input": "2023-11-05T19:43:35.389813Z",
     "iopub.status.busy": "2023-11-05T19:43:35.389418Z",
     "iopub.status.idle": "2023-11-05T19:43:35.395443Z",
     "shell.execute_reply": "2023-11-05T19:43:35.394105Z"
    },
    "papermill": {
     "duration": 0.017101,
     "end_time": "2023-11-05T19:43:35.398755",
     "exception": false,
     "start_time": "2023-11-05T19:43:35.381654",
     "status": "completed"
    },
    "tags": []
   },
   "outputs": [],
   "source": [
    "# define your model, train, and make predictions on the test set"
   ]
  },
  {
   "cell_type": "markdown",
   "id": "f3f75b67",
   "metadata": {
    "papermill": {
     "duration": 0.00581,
     "end_time": "2023-11-05T19:43:35.411179",
     "exception": false,
     "start_time": "2023-11-05T19:43:35.405369",
     "status": "completed"
    },
    "tags": []
   },
   "source": [
    "# Preparing a CSV for Submission"
   ]
  },
  {
   "cell_type": "code",
   "execution_count": 14,
   "id": "e17021a0",
   "metadata": {
    "execution": {
     "iopub.execute_input": "2023-11-05T19:43:35.425636Z",
     "iopub.status.busy": "2023-11-05T19:43:35.425205Z",
     "iopub.status.idle": "2023-11-05T19:43:35.447305Z",
     "shell.execute_reply": "2023-11-05T19:43:35.446233Z"
    },
    "papermill": {
     "duration": 0.032522,
     "end_time": "2023-11-05T19:43:35.449784",
     "exception": false,
     "start_time": "2023-11-05T19:43:35.417262",
     "status": "completed"
    },
    "tags": []
   },
   "outputs": [
    {
     "data": {
      "text/html": [
       "<div>\n",
       "<style scoped>\n",
       "    .dataframe tbody tr th:only-of-type {\n",
       "        vertical-align: middle;\n",
       "    }\n",
       "\n",
       "    .dataframe tbody tr th {\n",
       "        vertical-align: top;\n",
       "    }\n",
       "\n",
       "    .dataframe thead th {\n",
       "        text-align: right;\n",
       "    }\n",
       "</style>\n",
       "<table border=\"1\" class=\"dataframe\">\n",
       "  <thead>\n",
       "    <tr style=\"text-align: right;\">\n",
       "      <th></th>\n",
       "      <th>ID</th>\n",
       "      <th>Age</th>\n",
       "      <th>Menopause</th>\n",
       "      <th>Tumor-size</th>\n",
       "      <th>Inv-nodes</th>\n",
       "      <th>Node-caps</th>\n",
       "      <th>Deg-malig</th>\n",
       "      <th>Breast</th>\n",
       "      <th>Breast-quad</th>\n",
       "      <th>Irradiat</th>\n",
       "    </tr>\n",
       "  </thead>\n",
       "  <tbody>\n",
       "    <tr>\n",
       "      <th>0</th>\n",
       "      <td>1</td>\n",
       "      <td>60-69</td>\n",
       "      <td>ge40</td>\n",
       "      <td>14-Oct</td>\n",
       "      <td>0-2</td>\n",
       "      <td>no</td>\n",
       "      <td>1</td>\n",
       "      <td>left</td>\n",
       "      <td>left_low</td>\n",
       "      <td>no</td>\n",
       "    </tr>\n",
       "    <tr>\n",
       "      <th>1</th>\n",
       "      <td>2</td>\n",
       "      <td>50-59</td>\n",
       "      <td>premeno</td>\n",
       "      <td>35-39</td>\n",
       "      <td>15-17</td>\n",
       "      <td>yes</td>\n",
       "      <td>3</td>\n",
       "      <td>right</td>\n",
       "      <td>right_up</td>\n",
       "      <td>no</td>\n",
       "    </tr>\n",
       "    <tr>\n",
       "      <th>2</th>\n",
       "      <td>3</td>\n",
       "      <td>60-69</td>\n",
       "      <td>ge40</td>\n",
       "      <td>30-34</td>\n",
       "      <td>0-2</td>\n",
       "      <td>no</td>\n",
       "      <td>3</td>\n",
       "      <td>left</td>\n",
       "      <td>left_low</td>\n",
       "      <td>no</td>\n",
       "    </tr>\n",
       "    <tr>\n",
       "      <th>3</th>\n",
       "      <td>4</td>\n",
       "      <td>50-59</td>\n",
       "      <td>lt40</td>\n",
       "      <td>20-24</td>\n",
       "      <td>0-2</td>\n",
       "      <td>?</td>\n",
       "      <td>1</td>\n",
       "      <td>left</td>\n",
       "      <td>left_up</td>\n",
       "      <td>no</td>\n",
       "    </tr>\n",
       "    <tr>\n",
       "      <th>4</th>\n",
       "      <td>5</td>\n",
       "      <td>60-69</td>\n",
       "      <td>ge40</td>\n",
       "      <td>15-19</td>\n",
       "      <td>0-2</td>\n",
       "      <td>no</td>\n",
       "      <td>1</td>\n",
       "      <td>right</td>\n",
       "      <td>left_up</td>\n",
       "      <td>no</td>\n",
       "    </tr>\n",
       "  </tbody>\n",
       "</table>\n",
       "</div>"
      ],
      "text/plain": [
       "   ID    Age Menopause Tumor-size Inv-nodes Node-caps  Deg-malig Breast  \\\n",
       "0   1  60-69      ge40     14-Oct       0-2        no          1   left   \n",
       "1   2  50-59   premeno      35-39     15-17       yes          3  right   \n",
       "2   3  60-69      ge40      30-34       0-2        no          3   left   \n",
       "3   4  50-59      lt40      20-24       0-2         ?          1   left   \n",
       "4   5  60-69      ge40      15-19       0-2        no          1  right   \n",
       "\n",
       "  Breast-quad Irradiat  \n",
       "0    left_low       no  \n",
       "1    right_up       no  \n",
       "2    left_low       no  \n",
       "3     left_up       no  \n",
       "4     left_up       no  "
      ]
     },
     "execution_count": 14,
     "metadata": {},
     "output_type": "execute_result"
    }
   ],
   "source": [
    "# Reading in the test dataset\n",
    "test_df = pd.read_csv('/kaggle/input/camp-qmind-hackathon-2023-A/test.csv')\n",
    "test_ids = test_df['ID']\n",
    "test_df.head() # Identical format to the train data, without a class label (your model will predict this)"
   ]
  },
  {
   "cell_type": "code",
   "execution_count": 15,
   "id": "79f4acf7",
   "metadata": {
    "execution": {
     "iopub.execute_input": "2023-11-05T19:43:35.464843Z",
     "iopub.status.busy": "2023-11-05T19:43:35.464471Z",
     "iopub.status.idle": "2023-11-05T19:43:35.478656Z",
     "shell.execute_reply": "2023-11-05T19:43:35.476276Z"
    },
    "papermill": {
     "duration": 0.024438,
     "end_time": "2023-11-05T19:43:35.480873",
     "exception": false,
     "start_time": "2023-11-05T19:43:35.456435",
     "status": "completed"
    },
    "tags": []
   },
   "outputs": [
    {
     "name": "stdout",
     "output_type": "stream",
     "text": [
      "    ID  Class\n",
      "0    1      0\n",
      "1    2      0\n",
      "2    3      0\n",
      "3    4      0\n",
      "4    5      0\n",
      "5    6      0\n",
      "6    7      0\n",
      "7    8      0\n",
      "8    9      0\n",
      "9   10      0\n",
      "10  11      0\n",
      "11  12      0\n",
      "12  13      0\n",
      "13  14      0\n",
      "14  15      0\n",
      "15  16      0\n",
      "16  17      0\n",
      "17  18      0\n",
      "18  19      0\n",
      "19  20      0\n",
      "20  21      0\n",
      "21  22      0\n",
      "22  23      0\n",
      "23  24      0\n",
      "24  25      0\n",
      "25  26      0\n",
      "26  27      0\n",
      "27  28      0\n",
      "28  29      0\n",
      "29  30      0\n",
      "30  31      0\n",
      "31  32      0\n",
      "32  33      0\n",
      "33  34      0\n",
      "34  35      0\n",
      "35  36      0\n",
      "36  37      0\n",
      "37  38      0\n",
      "38  39      0\n",
      "39  40      0\n",
      "40  41      0\n",
      "41  42      0\n",
      "42  43      0\n",
      "43  44      0\n",
      "44  45      0\n",
      "45  46      0\n",
      "46  47      0\n",
      "47  48      0\n",
      "48  49      0\n",
      "49  50      0\n",
      "50  51      0\n",
      "51  52      0\n",
      "52  53      0\n",
      "53  54      0\n",
      "54  55      0\n",
      "55  56      0\n",
      "56  57      0\n",
      "57  58      0\n"
     ]
    }
   ],
   "source": [
    "# When you have the ids and predictions prepared, here is how you make a submission.csv\n",
    "predicted_class = [0] * 58  #TODO: replace this array with your own predictions. These are placeholder predictions.\n",
    "\n",
    "submission = {\"ID\": np.array(test_ids).astype(int), \"Class\": predicted_class}\n",
    "submisson_df = pd.DataFrame(submission)\n",
    "\n",
    "# you can sort the data frame by ID (you don't have to)\n",
    "submisson_df = submisson_df.sort_values(by=['ID'])\n",
    "print(submisson_df)\n",
    "submisson_df.to_csv('/kaggle/working/submission.csv', index=False)"
   ]
  }
 ],
 "metadata": {
  "kernelspec": {
   "display_name": "Python 3",
   "language": "python",
   "name": "python3"
  },
  "language_info": {
   "codemirror_mode": {
    "name": "ipython",
    "version": 3
   },
   "file_extension": ".py",
   "mimetype": "text/x-python",
   "name": "python",
   "nbconvert_exporter": "python",
   "pygments_lexer": "ipython3",
   "version": "3.10.12"
  },
  "papermill": {
   "default_parameters": {},
   "duration": 20.192455,
   "end_time": "2023-11-05T19:43:38.542957",
   "environment_variables": {},
   "exception": null,
   "input_path": "__notebook__.ipynb",
   "output_path": "__notebook__.ipynb",
   "parameters": {},
   "start_time": "2023-11-05T19:43:18.350502",
   "version": "2.4.0"
  }
 },
 "nbformat": 4,
 "nbformat_minor": 5
}
